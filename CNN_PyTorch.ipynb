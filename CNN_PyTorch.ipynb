{
  "nbformat": 4,
  "nbformat_minor": 0,
  "metadata": {
    "colab": {
      "provenance": [],
      "gpuType": "T4",
      "authorship_tag": "ABX9TyO7RN6xyPCWPiHeEzBZYXQ5",
      "include_colab_link": true
    },
    "kernelspec": {
      "name": "python3",
      "display_name": "Python 3"
    },
    "language_info": {
      "name": "python"
    },
    "accelerator": "GPU"
  },
  "cells": [
    {
      "cell_type": "markdown",
      "metadata": {
        "id": "view-in-github",
        "colab_type": "text"
      },
      "source": [
        "<a href=\"https://colab.research.google.com/github/Cyber-Squid1/PyTorch/blob/main/CNN_PyTorch.ipynb\" target=\"_parent\"><img src=\"https://colab.research.google.com/assets/colab-badge.svg\" alt=\"Open In Colab\"/></a>"
      ]
    },
    {
      "cell_type": "code",
      "execution_count": 1,
      "metadata": {
        "id": "GtfkWgNV93EC"
      },
      "outputs": [],
      "source": [
        "import torch\n",
        "import torchvision\n",
        "import torch.nn as nn\n",
        "import torch.nn.functional as F\n",
        "import torchvision.transforms as transforms\n",
        "import matplotlib.pyplot as plt\n",
        "import numpy as np"
      ]
    },
    {
      "cell_type": "code",
      "source": [
        "device=torch.device('cuda' if torch.cuda.is_available() else 'cpu')\n",
        "device"
      ],
      "metadata": {
        "colab": {
          "base_uri": "https://localhost:8080/"
        },
        "id": "xTe790uxG7mK",
        "outputId": "593412de-fb49-45da-91f2-c01bb3086490"
      },
      "execution_count": 2,
      "outputs": [
        {
          "output_type": "execute_result",
          "data": {
            "text/plain": [
              "device(type='cuda')"
            ]
          },
          "metadata": {},
          "execution_count": 2
        }
      ]
    },
    {
      "cell_type": "code",
      "source": [
        "num_epoch=4\n",
        "batch_size=4\n",
        "lr=0.001"
      ],
      "metadata": {
        "id": "UreaRvAoG7oh"
      },
      "execution_count": 3,
      "outputs": []
    },
    {
      "cell_type": "code",
      "source": [
        "transform=transforms.Compose(\n",
        "    [transforms.ToTensor(),\n",
        "    transforms.Normalize((0.5,0.5,0.5),(0.5,0.5,0.5))]\n",
        "    )"
      ],
      "metadata": {
        "id": "E4dvkWfXG7rE"
      },
      "execution_count": 4,
      "outputs": []
    },
    {
      "cell_type": "code",
      "source": [
        "train_data=torchvision.datasets.CIFAR10(root='./data',train=True,download=True,transform=transform)\n",
        "test_data=torchvision.datasets.CIFAR10(root='./data',train=False,download=True,transform=transform)"
      ],
      "metadata": {
        "colab": {
          "base_uri": "https://localhost:8080/"
        },
        "id": "-DghgP58G7vi",
        "outputId": "9e310136-1108-43aa-ef32-dbf86ac6c5a9"
      },
      "execution_count": 5,
      "outputs": [
        {
          "output_type": "stream",
          "name": "stdout",
          "text": [
            "Downloading https://www.cs.toronto.edu/~kriz/cifar-10-python.tar.gz to ./data/cifar-10-python.tar.gz\n"
          ]
        },
        {
          "output_type": "stream",
          "name": "stderr",
          "text": [
            "100%|██████████| 170498071/170498071 [00:03<00:00, 43290206.08it/s]\n"
          ]
        },
        {
          "output_type": "stream",
          "name": "stdout",
          "text": [
            "Extracting ./data/cifar-10-python.tar.gz to ./data\n",
            "Files already downloaded and verified\n"
          ]
        }
      ]
    },
    {
      "cell_type": "code",
      "source": [
        "train_loader= torch.utils.data.DataLoader(train_data,batch_size=batch_size,shuffle=True)\n",
        "test_loader= torch.utils.data.DataLoader(test_data,batch_size=batch_size,shuffle=False)"
      ],
      "metadata": {
        "id": "LQS1MOE1G7wi"
      },
      "execution_count": 6,
      "outputs": []
    },
    {
      "cell_type": "code",
      "source": [
        "classes=('plane','car','bird','cat','deer','dog','frog','horse','ship','truck')\n",
        "num_classes=len(classes)\n",
        "print(num_classes)"
      ],
      "metadata": {
        "colab": {
          "base_uri": "https://localhost:8080/"
        },
        "id": "8RbxDVh8G7y4",
        "outputId": "d0816771-813e-40a2-8135-b8601b42b1ac"
      },
      "execution_count": 7,
      "outputs": [
        {
          "output_type": "stream",
          "name": "stdout",
          "text": [
            "10\n"
          ]
        }
      ]
    },
    {
      "cell_type": "code",
      "source": [
        "class ConvNet(nn.Module):\n",
        "    def __init__(self,num_classes):\n",
        "        super(ConvNet,self).__init__()\n",
        "        self.conv1=nn.Conv2d(in_channels=3,out_channels=6,kernel_size=5)\n",
        "        self.pool1=nn.MaxPool2d(kernel_size=2,stride=2)\n",
        "        self.conv2=nn.Conv2d(in_channels=6,out_channels=16,kernel_size=5)\n",
        "        self.pool2=nn.MaxPool2d(kernel_size=2,stride=2)\n",
        "        self.linear1=nn.Linear(in_features=16*5*5,out_features=128)\n",
        "        self.linear2=nn.Linear(in_features=128,out_features=64)\n",
        "        self.linear3=nn.Linear(in_features=64,out_features=num_classes)\n",
        "\n",
        "    def forward(self,x):\n",
        "        x = F.relu(self.conv1(x))\n",
        "        x = self.pool1(x)\n",
        "        x = F.relu(self.conv2(x))\n",
        "        x = self.pool2(x)\n",
        "        x = x.view(-1,16*5*5) # This is used to Flatten the output from MaxPool2D\n",
        "        x = F.relu(self.linear1(x))\n",
        "        x = F.relu(self.linear2(x))\n",
        "        x = self.linear3(x)\n",
        "        return x"
      ],
      "metadata": {
        "id": "TWCm84j7G704"
      },
      "execution_count": 8,
      "outputs": []
    },
    {
      "cell_type": "code",
      "source": [
        "model=ConvNet(num_classes).to(device)\n",
        "criterion=nn.CrossEntropyLoss()\n",
        "optimizer=torch.optim.SGD(model.parameters(),lr=lr)"
      ],
      "metadata": {
        "id": "NtDkdis7G73Y"
      },
      "execution_count": 9,
      "outputs": []
    },
    {
      "cell_type": "code",
      "source": [
        "n_steps=len(train_loader)\n",
        "for epoch in range(num_epoch):\n",
        "    for i, (images,labels) in enumerate(train_loader):\n",
        "        images=images.to(device)\n",
        "        labels=labels.to(device)\n",
        "\n",
        "        output=model(images)\n",
        "        loss=criterion(output,labels)\n",
        "\n",
        "        optimizer.zero_grad()\n",
        "        loss.backward()\n",
        "        optimizer.step()\n",
        "\n",
        "        if (i+1) % 2000 == 0:\n",
        "            print(f'Epoch [{epoch+1}/{num_epoch}], Step [{i+1}/{n_steps}], Loss: {loss.item():.4f}')\n",
        "\n",
        "print(\"Training Finished\")"
      ],
      "metadata": {
        "colab": {
          "base_uri": "https://localhost:8080/"
        },
        "id": "RK4kKuf4G75y",
        "outputId": "09f17068-df69-44e9-d9b2-68622e9fbdcf"
      },
      "execution_count": 10,
      "outputs": [
        {
          "output_type": "stream",
          "name": "stdout",
          "text": [
            "Epoch [1/4], Step [2000/12500], Loss: 2.3207\n",
            "Epoch [1/4], Step [4000/12500], Loss: 2.3116\n",
            "Epoch [1/4], Step [6000/12500], Loss: 2.2741\n",
            "Epoch [1/4], Step [8000/12500], Loss: 2.2397\n",
            "Epoch [1/4], Step [10000/12500], Loss: 2.3096\n",
            "Epoch [1/4], Step [12000/12500], Loss: 1.9544\n",
            "Epoch [2/4], Step [2000/12500], Loss: 1.8708\n",
            "Epoch [2/4], Step [4000/12500], Loss: 1.7572\n",
            "Epoch [2/4], Step [6000/12500], Loss: 1.6121\n",
            "Epoch [2/4], Step [8000/12500], Loss: 1.6301\n",
            "Epoch [2/4], Step [10000/12500], Loss: 1.5805\n",
            "Epoch [2/4], Step [12000/12500], Loss: 2.5721\n",
            "Epoch [3/4], Step [2000/12500], Loss: 1.4286\n",
            "Epoch [3/4], Step [4000/12500], Loss: 1.5729\n",
            "Epoch [3/4], Step [6000/12500], Loss: 1.2559\n",
            "Epoch [3/4], Step [8000/12500], Loss: 1.5043\n",
            "Epoch [3/4], Step [10000/12500], Loss: 1.0722\n",
            "Epoch [3/4], Step [12000/12500], Loss: 0.9486\n",
            "Epoch [4/4], Step [2000/12500], Loss: 0.9536\n",
            "Epoch [4/4], Step [4000/12500], Loss: 1.6371\n",
            "Epoch [4/4], Step [6000/12500], Loss: 0.6032\n",
            "Epoch [4/4], Step [8000/12500], Loss: 2.3580\n",
            "Epoch [4/4], Step [10000/12500], Loss: 1.6937\n",
            "Epoch [4/4], Step [12000/12500], Loss: 1.5751\n",
            "Training Finished\n"
          ]
        }
      ]
    },
    {
      "cell_type": "code",
      "source": [
        "with torch.no_grad():\n",
        "    n_correct=0\n",
        "    n_samples=0\n",
        "    n_class_correct=[0 for i in range(10)]\n",
        "    n_class_samples=[0 for i in range(10)]\n",
        "    for images,labels in test_loader:\n",
        "        images=images.to(device)\n",
        "        labels=labels.to(device)\n",
        "        output=model(images)\n",
        "\n",
        "        _,prediction=torch.max(output,1)\n",
        "        n_samples+=labels.size(0)\n",
        "        n_correct+=(prediction == labels).sum().item()\n",
        "\n",
        "        for i in range(batch_size):\n",
        "            label=labels[i]\n",
        "            pred=prediction[i]\n",
        "            if (label == pred):\n",
        "                n_class_correct[label] += 1\n",
        "            n_class_samples[label] += 1\n",
        "\n",
        "    acc = 100.0*n_correct/n_samples\n",
        "    print(f'Accuracy of network: {acc} %')\n",
        "\n",
        "    for i in range(10):\n",
        "        acc_class=100.0*n_class_correct[i]/n_class_samples[i]\n",
        "        print(f'Accuracy of class {classes[i]} is: {acc_class} %')"
      ],
      "metadata": {
        "colab": {
          "base_uri": "https://localhost:8080/"
        },
        "id": "xBPpvAokG78Y",
        "outputId": "34487953-0222-4aff-94da-0a2b0ffb7645"
      },
      "execution_count": 12,
      "outputs": [
        {
          "output_type": "stream",
          "name": "stdout",
          "text": [
            "Accuracy of network: 46.39 %\n",
            "Accuracy of class plane is: 58.1 %\n",
            "Accuracy of class car is: 73.1 %\n",
            "Accuracy of class bird is: 30.6 %\n",
            "Accuracy of class cat is: 37.8 %\n",
            "Accuracy of class deer is: 29.1 %\n",
            "Accuracy of class dog is: 23.3 %\n",
            "Accuracy of class frog is: 63.8 %\n",
            "Accuracy of class horse is: 48.9 %\n",
            "Accuracy of class ship is: 44.6 %\n",
            "Accuracy of class truck is: 54.6 %\n"
          ]
        }
      ]
    },
    {
      "cell_type": "code",
      "source": [],
      "metadata": {
        "id": "4vHYP5lpR9cQ"
      },
      "execution_count": null,
      "outputs": []
    }
  ]
}