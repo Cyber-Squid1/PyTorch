{
  "nbformat": 4,
  "nbformat_minor": 0,
  "metadata": {
    "colab": {
      "provenance": [],
      "gpuType": "T4",
      "authorship_tag": "ABX9TyN04VYMLh3zLRwYoabQ4yEw",
      "include_colab_link": true
    },
    "kernelspec": {
      "name": "python3",
      "display_name": "Python 3"
    },
    "language_info": {
      "name": "python"
    },
    "accelerator": "GPU"
  },
  "cells": [
    {
      "cell_type": "markdown",
      "metadata": {
        "id": "view-in-github",
        "colab_type": "text"
      },
      "source": [
        "<a href=\"https://colab.research.google.com/github/Cyber-Squid1/PyTorch/blob/main/First_NeuralNetwork_PyTorch.ipynb\" target=\"_parent\"><img src=\"https://colab.research.google.com/assets/colab-badge.svg\" alt=\"Open In Colab\"/></a>"
      ]
    },
    {
      "cell_type": "code",
      "execution_count": 1,
      "metadata": {
        "id": "9dLYjgDkvPnc"
      },
      "outputs": [],
      "source": [
        "import torch\n",
        "import torchvision\n",
        "import torch.nn as nn\n",
        "import torchvision.transforms as transforms\n",
        "import matplotlib.pyplot as plt"
      ]
    },
    {
      "cell_type": "code",
      "source": [
        "device=torch.device('cuda' if torch.cuda.is_available() else 'cpu')"
      ],
      "metadata": {
        "id": "-JmmhP10vb54"
      },
      "execution_count": 2,
      "outputs": []
    },
    {
      "cell_type": "code",
      "source": [
        "# Define Hyperparameters\n",
        "in_size=784 # 28*28\n",
        "hidden_size=100\n",
        "lr=0.001\n",
        "n_classes=10\n",
        "batch_size=100\n",
        "n_epochs=4"
      ],
      "metadata": {
        "id": "DhmP__1yvb8t"
      },
      "execution_count": 3,
      "outputs": []
    },
    {
      "cell_type": "code",
      "source": [
        "# import MNIST dataset\n",
        "train_data=torchvision.datasets.MNIST(root='./data',train=True,transform=transforms.ToTensor(),download=True)\n",
        "test_data=torchvision.datasets.MNIST(root='./data',train=False,transform=transforms.ToTensor())"
      ],
      "metadata": {
        "colab": {
          "base_uri": "https://localhost:8080/"
        },
        "id": "SdYyaegNvcAF",
        "outputId": "72d46b36-983e-47ed-cdbc-64eb63ab4075"
      },
      "execution_count": 4,
      "outputs": [
        {
          "output_type": "stream",
          "name": "stdout",
          "text": [
            "Downloading http://yann.lecun.com/exdb/mnist/train-images-idx3-ubyte.gz\n",
            "Downloading http://yann.lecun.com/exdb/mnist/train-images-idx3-ubyte.gz to ./data/MNIST/raw/train-images-idx3-ubyte.gz\n"
          ]
        },
        {
          "output_type": "stream",
          "name": "stderr",
          "text": [
            "100%|██████████| 9912422/9912422 [00:00<00:00, 333005296.31it/s]"
          ]
        },
        {
          "output_type": "stream",
          "name": "stdout",
          "text": [
            "Extracting ./data/MNIST/raw/train-images-idx3-ubyte.gz to ./data/MNIST/raw\n"
          ]
        },
        {
          "output_type": "stream",
          "name": "stderr",
          "text": [
            "\n"
          ]
        },
        {
          "output_type": "stream",
          "name": "stdout",
          "text": [
            "\n",
            "Downloading http://yann.lecun.com/exdb/mnist/train-labels-idx1-ubyte.gz\n",
            "Downloading http://yann.lecun.com/exdb/mnist/train-labels-idx1-ubyte.gz to ./data/MNIST/raw/train-labels-idx1-ubyte.gz\n"
          ]
        },
        {
          "output_type": "stream",
          "name": "stderr",
          "text": [
            "100%|██████████| 28881/28881 [00:00<00:00, 59351148.37it/s]\n"
          ]
        },
        {
          "output_type": "stream",
          "name": "stdout",
          "text": [
            "Extracting ./data/MNIST/raw/train-labels-idx1-ubyte.gz to ./data/MNIST/raw\n",
            "\n",
            "Downloading http://yann.lecun.com/exdb/mnist/t10k-images-idx3-ubyte.gz\n",
            "Downloading http://yann.lecun.com/exdb/mnist/t10k-images-idx3-ubyte.gz to ./data/MNIST/raw/t10k-images-idx3-ubyte.gz\n"
          ]
        },
        {
          "output_type": "stream",
          "name": "stderr",
          "text": [
            "100%|██████████| 1648877/1648877 [00:00<00:00, 156457511.86it/s]\n"
          ]
        },
        {
          "output_type": "stream",
          "name": "stdout",
          "text": [
            "Extracting ./data/MNIST/raw/t10k-images-idx3-ubyte.gz to ./data/MNIST/raw\n",
            "\n",
            "Downloading http://yann.lecun.com/exdb/mnist/t10k-labels-idx1-ubyte.gz\n",
            "Downloading http://yann.lecun.com/exdb/mnist/t10k-labels-idx1-ubyte.gz to ./data/MNIST/raw/t10k-labels-idx1-ubyte.gz\n"
          ]
        },
        {
          "output_type": "stream",
          "name": "stderr",
          "text": [
            "100%|██████████| 4542/4542 [00:00<00:00, 20957677.41it/s]\n"
          ]
        },
        {
          "output_type": "stream",
          "name": "stdout",
          "text": [
            "Extracting ./data/MNIST/raw/t10k-labels-idx1-ubyte.gz to ./data/MNIST/raw\n",
            "\n"
          ]
        }
      ]
    },
    {
      "cell_type": "code",
      "source": [
        "# create dataloaders\n",
        "train_loader=torch.utils.data.DataLoader(dataset=train_data,batch_size=batch_size,shuffle=True)\n",
        "test_loader=torch.utils.data.DataLoader(dataset=test_data,batch_size=batch_size,shuffle=False)"
      ],
      "metadata": {
        "id": "JFAooZDdvcCN"
      },
      "execution_count": 5,
      "outputs": []
    },
    {
      "cell_type": "code",
      "source": [
        "examples = iter(train_loader)\n",
        "samples, labels=next(examples)\n",
        "print(\"Samples shape= \",samples.shape)\n",
        "print(\"Labels shape= \",labels.shape)"
      ],
      "metadata": {
        "colab": {
          "base_uri": "https://localhost:8080/"
        },
        "id": "PnBV4dKwvcEd",
        "outputId": "46f651d7-72d3-4518-e849-c1c72752d21d"
      },
      "execution_count": 6,
      "outputs": [
        {
          "output_type": "stream",
          "name": "stdout",
          "text": [
            "Samples shape=  torch.Size([100, 1, 28, 28])\n",
            "Labels shape=  torch.Size([100])\n"
          ]
        }
      ]
    },
    {
      "cell_type": "code",
      "source": [
        "for i in range(9):\n",
        "    plt.subplot(3,3,i+1)\n",
        "    plt.imshow(samples[i][0], cmap='gray')\n",
        "plt.show()"
      ],
      "metadata": {
        "colab": {
          "base_uri": "https://localhost:8080/",
          "height": 433
        },
        "id": "jkfy3_BkvcHP",
        "outputId": "e96cd07b-f812-46f6-caa9-db13051b8d8d"
      },
      "execution_count": 7,
      "outputs": [
        {
          "output_type": "display_data",
          "data": {
            "text/plain": [
              "<Figure size 640x480 with 9 Axes>"
            ],
            "image/png": "[encoded data removed]"
          },
          "metadata": {}
        }
      ]
    },
    {
      "cell_type": "code",
      "source": [
        "class NeuralNetworkMNIST(nn.Module):\n",
        "    def __init__(self,in_size,hidden_size,n_classes):\n",
        "        super(NeuralNetworkMNIST,self).__init__()\n",
        "        self.l1=nn.Linear(in_features=in_size,out_features=hidden_size)\n",
        "        self.relu1=nn.ReLU()\n",
        "        self.l2=nn.Linear(in_features=hidden_size,out_features=hidden_size)\n",
        "        self.relu2=nn.ReLU()\n",
        "        self.l3=nn.Linear(in_features=100,out_features=n_classes)\n",
        "\n",
        "    def forward(self,x):\n",
        "        z=self.l1(x)\n",
        "        z=self.relu1(z)\n",
        "        z=self.l2(z)\n",
        "        z=self.relu2(z)\n",
        "        z=self.l3(z)\n",
        "        return z\n",
        "\n",
        "model=NeuralNetworkMNIST(in_size,hidden_size,n_classes)\n",
        "model=model.to(device)"
      ],
      "metadata": {
        "id": "XpPcNxB0vcJu"
      },
      "execution_count": 8,
      "outputs": []
    },
    {
      "cell_type": "code",
      "source": [
        "# Loss and optimizer\n",
        "criterion=nn.CrossEntropyLoss()\n",
        "optimizer=torch.optim.Adam(model.parameters(),lr=lr)"
      ],
      "metadata": {
        "id": "9OwUhgnWvcMi"
      },
      "execution_count": 9,
      "outputs": []
    },
    {
      "cell_type": "code",
      "source": [
        "# Training Loop\n",
        "n_steps=len(train_loader)\n",
        "\n",
        "for epoch in range(n_epochs):\n",
        "    for i, (images,labels) in enumerate(train_loader):\n",
        "        images=images.reshape(-1,28*28).to(device)\n",
        "        labels=labels.to(device)\n",
        "\n",
        "        # Forward Pass\n",
        "        output=model(images)\n",
        "        loss=criterion(output,labels)\n",
        "\n",
        "        # Backward Pass\n",
        "        optimizer.zero_grad()\n",
        "        loss.backward()\n",
        "        optimizer.step()\n",
        "\n",
        "        if (i+1)%100 == 0:\n",
        "            print(f' epoch: {epoch+1} / {n_epochs} , step: {i+1} / {n_steps} , loss: {loss.item():.6f}')\n"
      ],
      "metadata": {
        "colab": {
          "base_uri": "https://localhost:8080/"
        },
        "id": "RdLwCacavcO9",
        "outputId": "3839ac3f-392e-4d2c-a587-5820b5626c8e"
      },
      "execution_count": 10,
      "outputs": [
        {
          "output_type": "stream",
          "name": "stdout",
          "text": [
            " epoch: 1 / 4 , step: 100 / 600 , loss: 0.522368\n",
            " epoch: 1 / 4 , step: 200 / 600 , loss: 0.316545\n",
            " epoch: 1 / 4 , step: 300 / 600 , loss: 0.281152\n",
            " epoch: 1 / 4 , step: 400 / 600 , loss: 0.177521\n",
            " epoch: 1 / 4 , step: 500 / 600 , loss: 0.276793\n",
            " epoch: 1 / 4 , step: 600 / 600 , loss: 0.235847\n",
            " epoch: 2 / 4 , step: 100 / 600 , loss: 0.382467\n",
            " epoch: 2 / 4 , step: 200 / 600 , loss: 0.162439\n",
            " epoch: 2 / 4 , step: 300 / 600 , loss: 0.307577\n",
            " epoch: 2 / 4 , step: 400 / 600 , loss: 0.088166\n",
            " epoch: 2 / 4 , step: 500 / 600 , loss: 0.104588\n",
            " epoch: 2 / 4 , step: 600 / 600 , loss: 0.141398\n",
            " epoch: 3 / 4 , step: 100 / 600 , loss: 0.156885\n",
            " epoch: 3 / 4 , step: 200 / 600 , loss: 0.087375\n",
            " epoch: 3 / 4 , step: 300 / 600 , loss: 0.152191\n",
            " epoch: 3 / 4 , step: 400 / 600 , loss: 0.102634\n",
            " epoch: 3 / 4 , step: 500 / 600 , loss: 0.061939\n",
            " epoch: 3 / 4 , step: 600 / 600 , loss: 0.098438\n",
            " epoch: 4 / 4 , step: 100 / 600 , loss: 0.095016\n",
            " epoch: 4 / 4 , step: 200 / 600 , loss: 0.074035\n",
            " epoch: 4 / 4 , step: 300 / 600 , loss: 0.048380\n",
            " epoch: 4 / 4 , step: 400 / 600 , loss: 0.154341\n",
            " epoch: 4 / 4 , step: 500 / 600 , loss: 0.053931\n",
            " epoch: 4 / 4 , step: 600 / 600 , loss: 0.065454\n"
          ]
        }
      ]
    },
    {
      "cell_type": "code",
      "source": [
        "# Testing and Evaluation\n",
        "with torch.no_grad():\n",
        "    n_correct=0\n",
        "    n_samples=0\n",
        "    for images, labels in test_loader:\n",
        "        images=images.reshape(-1,28*28).to(device)\n",
        "        labels=labels.to(device)\n",
        "        output=model(images)\n",
        "\n",
        "        # torch.max() return value, index we are only interested in index so value is given as _\n",
        "        _, predictions=torch.max(output,1) # returns maximum value from output tensor along column 1\n",
        "        n_samples += labels.shape[0]\n",
        "        n_correct += (predictions == labels).sum().item()\n",
        "\n",
        "    acc = 100.0 * n_correct / n_samples\n",
        "    print(f' accuracy = {acc}')"
      ],
      "metadata": {
        "colab": {
          "base_uri": "https://localhost:8080/"
        },
        "id": "inn0oZgzvcR0",
        "outputId": "cff5c94d-554a-4817-e534-9bb0ad47b0e7"
      },
      "execution_count": 11,
      "outputs": [
        {
          "output_type": "stream",
          "name": "stdout",
          "text": [
            " accuracy = 97.19\n"
          ]
        }
      ]
    }
  ]
}