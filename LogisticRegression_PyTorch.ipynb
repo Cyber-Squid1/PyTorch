{
  "nbformat": 4,
  "nbformat_minor": 0,
  "metadata": {
    "colab": {
      "provenance": [],
      "gpuType": "T4",
      "authorship_tag": "ABX9TyM7QwEa1Tj8hh6tZ5sJ0v9B",
      "include_colab_link": true
    },
    "kernelspec": {
      "name": "python3",
      "display_name": "Python 3"
    },
    "language_info": {
      "name": "python"
    },
    "accelerator": "GPU"
  },
  "cells": [
    {
      "cell_type": "markdown",
      "metadata": {
        "id": "view-in-github",
        "colab_type": "text"
      },
      "source": [
        "<a href=\"https://colab.research.google.com/github/Cyber-Squid1/PyTorch/blob/main/LogisticRegression_PyTorch.ipynb\" target=\"_parent\"><img src=\"https://colab.research.google.com/assets/colab-badge.svg\" alt=\"Open In Colab\"/></a>"
      ]
    },
    {
      "cell_type": "code",
      "execution_count": null,
      "metadata": {
        "id": "uezpi3xB4umA"
      },
      "outputs": [],
      "source": [
        "import torch\n",
        "import torch.nn as nn\n",
        "import numpy as np\n",
        "from sklearn import datasets\n",
        "from sklearn.preprocessing import StandardScaler\n",
        "from sklearn.model_selection import train_test_split"
      ]
    },
    {
      "cell_type": "code",
      "source": [
        "BCdata=datasets.load_breast_cancer()\n",
        "x,y=BCdata.data,BCdata.target"
      ],
      "metadata": {
        "id": "xPECVsuM5w9B"
      },
      "execution_count": null,
      "outputs": []
    },
    {
      "cell_type": "code",
      "source": [
        "n_samples,n_features=x.shape\n",
        "print(n_samples,n_features)"
      ],
      "metadata": {
        "colab": {
          "base_uri": "https://localhost:8080/"
        },
        "id": "I1FDA-2i5_Ns",
        "outputId": "064761ca-b4c2-405d-9a6c-187e50c47864"
      },
      "execution_count": null,
      "outputs": [
        {
          "output_type": "stream",
          "name": "stdout",
          "text": [
            "569 30\n"
          ]
        }
      ]
    },
    {
      "cell_type": "code",
      "source": [
        "xtrain,xtest,ytrain,ytest=train_test_split(x,y,test_size=0.2,random_state=100)"
      ],
      "metadata": {
        "id": "Hg59K3xy6GiM"
      },
      "execution_count": null,
      "outputs": []
    },
    {
      "cell_type": "code",
      "source": [
        "# Apply Standard Scaler\n",
        "sc=StandardScaler()\n",
        "xtrain=sc.fit_transform(xtrain)\n",
        "xtest=sc.transform(xtest)"
      ],
      "metadata": {
        "id": "q8vQDwwd6Vuh"
      },
      "execution_count": null,
      "outputs": []
    },
    {
      "cell_type": "code",
      "source": [
        "# Convert numpy array to torch tensor\n",
        "x_train=torch.from_numpy(xtrain.astype(np.float32))\n",
        "x_test=torch.from_numpy(xtest.astype(np.float32))\n",
        "y_train=torch.from_numpy(ytrain.astype(np.float32))\n",
        "y_test=torch.from_numpy(ytest.astype(np.float32))"
      ],
      "metadata": {
        "id": "Tn5dRlKG6ucj"
      },
      "execution_count": null,
      "outputs": []
    },
    {
      "cell_type": "code",
      "source": [
        "# Convert row tensor to column vector\n",
        "y_train=y_train.view(y_train.shape[0], 1)\n",
        "y_test=y_test.view(y_test.shape[0], 1)"
      ],
      "metadata": {
        "id": "K2p8JOg57koq"
      },
      "execution_count": null,
      "outputs": []
    },
    {
      "cell_type": "code",
      "source": [
        "class LogisticRegression(nn.Module):\n",
        "    def __init__(self,in_features):\n",
        "        super(LogisticRegression,self).__init__()\n",
        "        self.linear=nn.Linear(in_features,1)\n",
        "\n",
        "    def forward(self,x):\n",
        "        y_pred=torch.sigmoid(self.linear(x))\n",
        "        return y_pred"
      ],
      "metadata": {
        "id": "e_T-v5B_7krN"
      },
      "execution_count": null,
      "outputs": []
    },
    {
      "cell_type": "code",
      "source": [
        "model=LogisticRegression(n_features)\n",
        "lr=0.01\n",
        "criterion=nn.BCELoss()\n",
        "optimizer=torch.optim.SGD(model.parameters(),lr=lr)\n",
        "n_epochs=100"
      ],
      "metadata": {
        "id": "QdEZYInp7kt4"
      },
      "execution_count": null,
      "outputs": []
    },
    {
      "cell_type": "code",
      "source": [
        "for epoch in range(n_epochs):\n",
        "    # Forward pass\n",
        "    y_pred=model(x_train)\n",
        "    # calculate loss\n",
        "    loss=criterion(y_pred,y_train)\n",
        "    # back propogation\n",
        "    loss.backward()\n",
        "    # update weights\n",
        "    optimizer.step()\n",
        "    # zero the previously saved gradients to prevent them from accumulating\n",
        "    optimizer.zero_grad()\n",
        "\n",
        "    if(epoch+1)%10 == 0:\n",
        "        print(f'epoch: {epoch+1}, loss: {loss.item():.4f}')"
      ],
      "metadata": {
        "colab": {
          "base_uri": "https://localhost:8080/"
        },
        "id": "qnBCBsAZ7kwg",
        "outputId": "d171fe0c-fca4-4ef9-fbdb-3bd1760d5a49"
      },
      "execution_count": null,
      "outputs": [
        {
          "output_type": "stream",
          "name": "stdout",
          "text": [
            "epoch: 10, loss: 0.6107\n",
            "epoch: 20, loss: 0.5030\n",
            "epoch: 30, loss: 0.4363\n",
            "epoch: 40, loss: 0.3906\n",
            "epoch: 50, loss: 0.3571\n",
            "epoch: 60, loss: 0.3312\n",
            "epoch: 70, loss: 0.3105\n",
            "epoch: 80, loss: 0.2934\n",
            "epoch: 90, loss: 0.2791\n",
            "epoch: 100, loss: 0.2668\n"
          ]
        }
      ]
    },
    {
      "cell_type": "code",
      "source": [
        "# Model Evaluation should not be the part if the compuattional graph\n",
        "with torch.no_grad():\n",
        "    y_pred=model(x_test)\n",
        "    y_pred_class=y_pred.round()\n",
        "    accuracy=y_pred_class.eq(y_test).sum() / float(y_test.shape[0])\n",
        "    print(f'Accuracy = {accuracy:.4f}')"
      ],
      "metadata": {
        "colab": {
          "base_uri": "https://localhost:8080/"
        },
        "id": "mMaahvpz7kyH",
        "outputId": "bb36d3a5-9fd5-4800-9835-1ec47386ac12"
      },
      "execution_count": null,
      "outputs": [
        {
          "output_type": "stream",
          "name": "stdout",
          "text": [
            "Accuracy = 0.9474\n"
          ]
        }
      ]
    },
    {
      "cell_type": "code",
      "source": [],
      "metadata": {
        "id": "vIQ1KtbwBBvU"
      },
      "execution_count": null,
      "outputs": []
    }
  ]
}