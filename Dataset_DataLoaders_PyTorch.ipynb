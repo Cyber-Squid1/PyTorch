{
  "nbformat": 4,
  "nbformat_minor": 0,
  "metadata": {
    "colab": {
      "provenance": [],
      "gpuType": "T4",
      "authorship_tag": "ABX9TyO3GSFrBkB7veqwSJMyFXq/",
      "include_colab_link": true
    },
    "kernelspec": {
      "name": "python3",
      "display_name": "Python 3"
    },
    "language_info": {
      "name": "python"
    },
    "accelerator": "GPU"
  },
  "cells": [
    {
      "cell_type": "markdown",
      "metadata": {
        "id": "view-in-github",
        "colab_type": "text"
      },
      "source": [
        "<a href=\"https://colab.research.google.com/github/Cyber-Squid1/PyTorch/blob/main/Dataset_DataLoaders_PyTorch.ipynb\" target=\"_parent\"><img src=\"https://colab.research.google.com/assets/colab-badge.svg\" alt=\"Open In Colab\"/></a>"
      ]
    },
    {
      "cell_type": "code",
      "execution_count": 1,
      "metadata": {
        "id": "-nU1uNzMASWH"
      },
      "outputs": [],
      "source": [
        "import torch\n",
        "import torchvision\n",
        "from torch.utils.data import Dataset, DataLoader\n",
        "import numpy as np\n",
        "import math"
      ]
    },
    {
      "cell_type": "code",
      "source": [
        "class WineDataset(Dataset):\n",
        "    def __init__(self):\n",
        "        # Loading Data\n",
        "        xy=np.loadtxt('./wine.csv',delimiter=\",\",dtype=np.float32,skiprows=1)\n",
        "        self.x=torch.from_numpy(xy[:,1:])\n",
        "        self.y=torch.from_numpy(xy[:,[0]]) # n_samples, 1\n",
        "        self.n_samples=xy.shape[0]\n",
        "\n",
        "    def __getitem__(self, index):\n",
        "        return self.x[index], self.y[index]\n",
        "\n",
        "    def __len__(self):\n",
        "        return self.n_samples"
      ],
      "metadata": {
        "id": "FvtlvXaaDPhC"
      },
      "execution_count": 2,
      "outputs": []
    },
    {
      "cell_type": "code",
      "source": [
        "# Method 1 to load the dataset features and labels\n",
        "dataset=WineDataset()\n",
        "data1=dataset[0]\n",
        "features,labels=data1\n",
        "print(features)\n",
        "print(labels)"
      ],
      "metadata": {
        "colab": {
          "base_uri": "https://localhost:8080/"
        },
        "id": "wj1NX0RnEywz",
        "outputId": "caa8e4b0-5180-4591-9e22-0fb1f51dc2e6"
      },
      "execution_count": 3,
      "outputs": [
        {
          "output_type": "stream",
          "name": "stdout",
          "text": [
            "tensor([1.4230e+01, 1.7100e+00, 2.4300e+00, 1.5600e+01, 1.2700e+02, 2.8000e+00,\n",
            "        3.0600e+00, 2.8000e-01, 2.2900e+00, 5.6400e+00, 1.0400e+00, 3.9200e+00,\n",
            "        1.0650e+03])\n",
            "tensor([1.])\n"
          ]
        }
      ]
    },
    {
      "cell_type": "code",
      "source": [
        "# Method 2 to load the dataset features and labels\n",
        "dataloader=DataLoader(\n",
        "    dataset=dataset,\n",
        "    batch_size=4,\n",
        "    shuffle=True,\n",
        "    num_workers=2\n",
        ")\n",
        "\n",
        "dataiter = iter(dataloader)\n",
        "data= next(dataiter)\n",
        "features, labels=data\n",
        "print(features)\n",
        "print(labels)"
      ],
      "metadata": {
        "colab": {
          "base_uri": "https://localhost:8080/"
        },
        "id": "w4HqFdCyEy1j",
        "outputId": "a7568f95-7c28-4ee3-9a8e-1a3a866d3d1a"
      },
      "execution_count": 4,
      "outputs": [
        {
          "output_type": "stream",
          "name": "stdout",
          "text": [
            "tensor([[1.2580e+01, 1.2900e+00, 2.1000e+00, 2.0000e+01, 1.0300e+02, 1.4800e+00,\n",
            "         5.8000e-01, 5.3000e-01, 1.4000e+00, 7.6000e+00, 5.8000e-01, 1.5500e+00,\n",
            "         6.4000e+02],\n",
            "        [1.2370e+01, 9.4000e-01, 1.3600e+00, 1.0600e+01, 8.8000e+01, 1.9800e+00,\n",
            "         5.7000e-01, 2.8000e-01, 4.2000e-01, 1.9500e+00, 1.0500e+00, 1.8200e+00,\n",
            "         5.2000e+02],\n",
            "        [1.2290e+01, 1.4100e+00, 1.9800e+00, 1.6000e+01, 8.5000e+01, 2.5500e+00,\n",
            "         2.5000e+00, 2.9000e-01, 1.7700e+00, 2.9000e+00, 1.2300e+00, 2.7400e+00,\n",
            "         4.2800e+02],\n",
            "        [1.3490e+01, 3.5900e+00, 2.1900e+00, 1.9500e+01, 8.8000e+01, 1.6200e+00,\n",
            "         4.8000e-01, 5.8000e-01, 8.8000e-01, 5.7000e+00, 8.1000e-01, 1.8200e+00,\n",
            "         5.8000e+02]])\n",
            "tensor([[3.],\n",
            "        [2.],\n",
            "        [2.],\n",
            "        [3.]])\n"
          ]
        }
      ]
    },
    {
      "cell_type": "code",
      "source": [
        "n_epochs=2\n",
        "total_samples=len(dataset)\n",
        "n_iterations=math.ceil(total_samples / 4)\n",
        "print(total_samples,n_iterations)"
      ],
      "metadata": {
        "colab": {
          "base_uri": "https://localhost:8080/"
        },
        "id": "b0hWpENdEy4p",
        "outputId": "b66dd674-562a-4039-c979-594c3ffa3e55"
      },
      "execution_count": 5,
      "outputs": [
        {
          "output_type": "stream",
          "name": "stdout",
          "text": [
            "178 45\n"
          ]
        }
      ]
    },
    {
      "cell_type": "code",
      "source": [
        "for epoch in range(n_epochs):\n",
        "    # Method 3 to load the dataset features and labels\n",
        "    for i, (input, labels) in enumerate(dataloader): # i is the step\n",
        "        if (i+1) % 5 == 0:\n",
        "            print(f'epoch: {epoch+1}/{n_epochs}, step: {i+1}/{n_iterations}, inputs: {input.shape}')"
      ],
      "metadata": {
        "colab": {
          "base_uri": "https://localhost:8080/"
        },
        "id": "tjsEaBKVEy6h",
        "outputId": "bd2bfcb3-8a0a-4abd-8647-d6e573bfbc2b"
      },
      "execution_count": 6,
      "outputs": [
        {
          "output_type": "stream",
          "name": "stdout",
          "text": [
            "epoch: 1/2, step: 5/45, inputs: torch.Size([4, 13])\n",
            "epoch: 1/2, step: 10/45, inputs: torch.Size([4, 13])\n",
            "epoch: 1/2, step: 15/45, inputs: torch.Size([4, 13])\n",
            "epoch: 1/2, step: 20/45, inputs: torch.Size([4, 13])\n",
            "epoch: 1/2, step: 25/45, inputs: torch.Size([4, 13])\n",
            "epoch: 1/2, step: 30/45, inputs: torch.Size([4, 13])\n",
            "epoch: 1/2, step: 35/45, inputs: torch.Size([4, 13])\n",
            "epoch: 1/2, step: 40/45, inputs: torch.Size([4, 13])\n",
            "epoch: 1/2, step: 45/45, inputs: torch.Size([2, 13])\n",
            "epoch: 2/2, step: 5/45, inputs: torch.Size([4, 13])\n",
            "epoch: 2/2, step: 10/45, inputs: torch.Size([4, 13])\n",
            "epoch: 2/2, step: 15/45, inputs: torch.Size([4, 13])\n",
            "epoch: 2/2, step: 20/45, inputs: torch.Size([4, 13])\n",
            "epoch: 2/2, step: 25/45, inputs: torch.Size([4, 13])\n",
            "epoch: 2/2, step: 30/45, inputs: torch.Size([4, 13])\n",
            "epoch: 2/2, step: 35/45, inputs: torch.Size([4, 13])\n",
            "epoch: 2/2, step: 40/45, inputs: torch.Size([4, 13])\n",
            "epoch: 2/2, step: 45/45, inputs: torch.Size([2, 13])\n"
          ]
        }
      ]
    },
    {
      "cell_type": "code",
      "source": [],
      "metadata": {
        "id": "bptfpGW6IdhS"
      },
      "execution_count": 6,
      "outputs": []
    }
  ]
}