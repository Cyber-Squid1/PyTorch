{
  "nbformat": 4,
  "nbformat_minor": 0,
  "metadata": {
    "colab": {
      "provenance": [],
      "gpuType": "T4",
      "authorship_tag": "ABX9TyOHa77xOrLlwVEG7/wH7qPQ",
      "include_colab_link": true
    },
    "kernelspec": {
      "name": "python3",
      "display_name": "Python 3"
    },
    "language_info": {
      "name": "python"
    },
    "accelerator": "GPU"
  },
  "cells": [
    {
      "cell_type": "markdown",
      "metadata": {
        "id": "view-in-github",
        "colab_type": "text"
      },
      "source": [
        "<a href=\"https://colab.research.google.com/github/Cyber-Squid1/PyTorch/blob/main/PyTorch_Basics.ipynb\" target=\"_parent\"><img src=\"https://colab.research.google.com/assets/colab-badge.svg\" alt=\"Open In Colab\"/></a>"
      ]
    },
    {
      "cell_type": "code",
      "execution_count": null,
      "metadata": {
        "id": "xyZsQ6u6Gl1E"
      },
      "outputs": [],
      "source": [
        "import torch\n",
        "import numpy as np"
      ]
    },
    {
      "cell_type": "code",
      "source": [
        "x=torch.empty(3,3,3)\n",
        "print(x)"
      ],
      "metadata": {
        "colab": {
          "base_uri": "https://localhost:8080/"
        },
        "id": "tkC-nZL4G0Rm",
        "outputId": "23a51c9b-e628-47f1-a301-cae3bd3eea08"
      },
      "execution_count": null,
      "outputs": [
        {
          "output_type": "stream",
          "name": "stdout",
          "text": [
            "tensor([[[ 0.0000e+00,  0.0000e+00, -6.1028e-26],\n",
            "         [ 4.3910e-41,  0.0000e+00,  0.0000e+00],\n",
            "         [ 0.0000e+00,  0.0000e+00,  0.0000e+00]],\n",
            "\n",
            "        [[ 0.0000e+00,  2.2561e-43,  0.0000e+00],\n",
            "         [ 1.7797e-38,  3.1445e-41,  1.9990e-38],\n",
            "         [ 3.1445e-41,  1.4013e-45,  0.0000e+00]],\n",
            "\n",
            "        [[-1.6356e-40,  4.3911e-41,  0.0000e+00],\n",
            "         [ 0.0000e+00,  0.0000e+00,  0.0000e+00],\n",
            "         [-1.0895e-01,  3.1444e-41, -1.0517e-01]]])\n"
          ]
        }
      ]
    },
    {
      "cell_type": "code",
      "source": [
        "randomTensor=torch.rand(2,2,2)\n",
        "print(randomTensor)"
      ],
      "metadata": {
        "colab": {
          "base_uri": "https://localhost:8080/"
        },
        "id": "dd-nnI0xG3DK",
        "outputId": "dfb7accd-3d12-41b0-fedb-92949b76f109"
      },
      "execution_count": null,
      "outputs": [
        {
          "output_type": "stream",
          "name": "stdout",
          "text": [
            "tensor([[[0.0417, 0.6926],\n",
            "         [0.2032, 0.6843]],\n",
            "\n",
            "        [[0.7883, 0.9361],\n",
            "         [0.4555, 0.4549]]])\n"
          ]
        }
      ]
    },
    {
      "cell_type": "code",
      "source": [
        "zeroTensor=torch.zeros(2,2,dtype=torch.int)\n",
        "print(zeroTensor)\n",
        "print(zeroTensor.type())\n",
        "print(zeroTensor.dtype)"
      ],
      "metadata": {
        "colab": {
          "base_uri": "https://localhost:8080/"
        },
        "id": "7xzv_MFuHI0W",
        "outputId": "91831b17-eee5-4683-d9f7-7c9c9b853394"
      },
      "execution_count": null,
      "outputs": [
        {
          "output_type": "stream",
          "name": "stdout",
          "text": [
            "tensor([[0, 0],\n",
            "        [0, 0]], dtype=torch.int32)\n",
            "torch.IntTensor\n",
            "torch.int32\n"
          ]
        }
      ]
    },
    {
      "cell_type": "code",
      "source": [
        "oneTensor=torch.ones(2,2)\n",
        "print(oneTensor)\n",
        "print(oneTensor.size())"
      ],
      "metadata": {
        "colab": {
          "base_uri": "https://localhost:8080/"
        },
        "id": "IuEd97h1HSm2",
        "outputId": "dab1a40b-a948-467c-8db8-c55b90576616"
      },
      "execution_count": null,
      "outputs": [
        {
          "output_type": "stream",
          "name": "stdout",
          "text": [
            "tensor([[1., 1.],\n",
            "        [1., 1.]])\n",
            "torch.Size([2, 2])\n"
          ]
        }
      ]
    },
    {
      "cell_type": "code",
      "source": [
        "tensorFromList=torch.tensor([1,4,8,3,6,7,9,2,10])\n",
        "print(tensorFromList)"
      ],
      "metadata": {
        "colab": {
          "base_uri": "https://localhost:8080/"
        },
        "id": "2_DOzOQhHhqY",
        "outputId": "71f9f403-f076-4371-f17c-9eddcb670bd9"
      },
      "execution_count": null,
      "outputs": [
        {
          "output_type": "stream",
          "name": "stdout",
          "text": [
            "tensor([ 1,  4,  8,  3,  6,  7,  9,  2, 10])\n"
          ]
        }
      ]
    },
    {
      "cell_type": "code",
      "source": [
        "t1=torch.rand(2,2)\n",
        "t2=torch.rand(2,2)\n",
        "# Element wise operations\n",
        "print(t1+t2) # or  print(torch.add(t1,t2))\n",
        "t2.add_(t1) # any function with trailing underscore (_) will do an inplace operation here t1 will be added to t2 and the result is saved in t2\n",
        "print(t2)\n",
        "print(t1-t2) # or print(torch.sub(t1,t2))\n",
        "print(t1*t2) # or print(torch.mul(t1,t2))\n",
        "print(t1/t2) # or print(torch.div(t1,t2))\n",
        "\n",
        "print()\n",
        "print()\n",
        "print()\n",
        "# Slicing\n",
        "\n",
        "t3=torch.rand(5,3)\n",
        "print(t3)\n",
        "print(t3[:2])\n",
        "print('value at position (2,2): ',t3[2,2]) # gives the value of the element at that position in a tensor\n",
        "print('value at position (2,2): ',t3[2,2].item()) # gives the scalar value of the element at that position instead of a tensor like above"
      ],
      "metadata": {
        "colab": {
          "base_uri": "https://localhost:8080/"
        },
        "id": "MvDni-4WIG4P",
        "outputId": "f8574050-3fcf-4ce0-9ab6-6c26ae590022"
      },
      "execution_count": null,
      "outputs": [
        {
          "output_type": "stream",
          "name": "stdout",
          "text": [
            "tensor([[0.4886, 1.0226],\n",
            "        [0.7864, 1.3158]])\n",
            "tensor([[0.4886, 1.0226],\n",
            "        [0.7864, 1.3158]])\n",
            "tensor([[-0.2967, -0.5883],\n",
            "        [-0.5378, -0.5648]])\n",
            "tensor([[0.0938, 0.4441],\n",
            "        [0.1956, 0.9882]])\n",
            "tensor([[0.3927, 0.4247],\n",
            "        [0.3162, 0.5708]])\n",
            "\n",
            "\n",
            "\n",
            "tensor([[0.0501, 0.8099, 0.0119],\n",
            "        [0.6549, 0.3065, 0.7651],\n",
            "        [0.0021, 0.6772, 0.3929],\n",
            "        [0.4112, 0.2278, 0.9048],\n",
            "        [0.2884, 0.1444, 0.3214]])\n",
            "tensor([[0.0501, 0.8099, 0.0119],\n",
            "        [0.6549, 0.3065, 0.7651]])\n",
            "value at position (2,2):  tensor(0.3929)\n",
            "value at position (2,2):  0.39291852712631226\n"
          ]
        }
      ]
    },
    {
      "cell_type": "code",
      "source": [
        "# Reshaping\n",
        "a=torch.rand(5,4)\n",
        "print(a) # 2D tensor\n",
        "b=a.view(20)  # the number of elements must be same i.e. 5*2=10\n",
        "print(b) # 1D vector\n",
        "c=a.view(-1,10)  # if we do no specify the size of tensor pytorch wil automatically determine the size according to the given input\n",
        "print(c)\n",
        "print(c.size())"
      ],
      "metadata": {
        "colab": {
          "base_uri": "https://localhost:8080/"
        },
        "id": "LZwA00BAIbWp",
        "outputId": "89d1c506-f45f-4555-edeb-b87a1a0dd938"
      },
      "execution_count": null,
      "outputs": [
        {
          "output_type": "stream",
          "name": "stdout",
          "text": [
            "tensor([[0.0035, 0.3571, 0.0310, 0.5395],\n",
            "        [0.0284, 0.8359, 0.2638, 0.9322],\n",
            "        [0.6648, 0.1876, 0.5117, 0.5363],\n",
            "        [0.6741, 0.5719, 0.9209, 0.8737],\n",
            "        [0.1099, 0.8389, 0.8307, 0.4071]])\n",
            "tensor([0.0035, 0.3571, 0.0310, 0.5395, 0.0284, 0.8359, 0.2638, 0.9322, 0.6648,\n",
            "        0.1876, 0.5117, 0.5363, 0.6741, 0.5719, 0.9209, 0.8737, 0.1099, 0.8389,\n",
            "        0.8307, 0.4071])\n",
            "tensor([[0.0035, 0.3571, 0.0310, 0.5395, 0.0284, 0.8359, 0.2638, 0.9322, 0.6648,\n",
            "         0.1876],\n",
            "        [0.5117, 0.5363, 0.6741, 0.5719, 0.9209, 0.8737, 0.1099, 0.8389, 0.8307,\n",
            "         0.4071]])\n",
            "torch.Size([2, 10])\n"
          ]
        }
      ]
    },
    {
      "cell_type": "code",
      "source": [
        "# Torch tensor to numpy array and vice versa\n",
        "a=torch.ones(5)\n",
        "print(a)\n",
        "b=a.numpy()\n",
        "print(type(b))\n",
        "print()\n",
        "\n",
        "print()\n",
        "print('Numpy to torch tensor')\n",
        "a1=np.ones(6)\n",
        "print(a1)\n",
        "print(type(a1))\n",
        "b1=torch.from_numpy(a1)\n",
        "print(b1)\n",
        "print(type(b1))\n",
        "\n",
        "\n",
        "# Both a and b point to the same memory location so if we modify a then b will also be modified\n",
        "# Same for a1 and b1\n",
        "# Only happens when tensor is created on CPU and not GPU as numpy cannot handle GPU tensors\n",
        "print('Both a and b point to the same memory location so if we modify a then b will also be modified')\n",
        "a.add_(1)\n",
        "print('a= ',a)\n",
        "print('b= ',b)\n",
        "\n",
        "a1 += 5\n",
        "print('a1= ',a1)\n",
        "print('b1= ',b1)"
      ],
      "metadata": {
        "colab": {
          "base_uri": "https://localhost:8080/"
        },
        "id": "T4F8jFORKbEQ",
        "outputId": "deeb25aa-9bf3-46bb-eb34-d4a82b3f8944"
      },
      "execution_count": null,
      "outputs": [
        {
          "output_type": "stream",
          "name": "stdout",
          "text": [
            "tensor([1., 1., 1., 1., 1.])\n",
            "<class 'numpy.ndarray'>\n",
            "\n",
            "\n",
            "Numpy to torch tensor\n",
            "[1. 1. 1. 1. 1. 1.]\n",
            "<class 'numpy.ndarray'>\n",
            "tensor([1., 1., 1., 1., 1., 1.], dtype=torch.float64)\n",
            "<class 'torch.Tensor'>\n",
            "Both a and b point to the same memory location so if we modify a then b will also be modified\n",
            "a=  tensor([2., 2., 2., 2., 2.])\n",
            "b=  [2. 2. 2. 2. 2.]\n",
            "a1=  [6. 6. 6. 6. 6. 6.]\n",
            "b1=  tensor([6., 6., 6., 6., 6., 6.], dtype=torch.float64)\n"
          ]
        }
      ]
    },
    {
      "cell_type": "code",
      "source": [
        "print(torch.cuda.is_available())\n",
        "if torch.cuda.is_available():\n",
        "  device=torch.device('cuda')\n",
        "  x1=torch.ones(4,device=device)\n",
        "  y1=torch.ones(4)\n",
        "  y1=y1.to(device)\n",
        "  z1=x1.to('cpu')\n",
        "  print('x1= ',x1)\n",
        "  print('y1= ',y1)\n",
        "  print('z1= ',z1)\n",
        "  print('z1 device= ',z1.device)"
      ],
      "metadata": {
        "colab": {
          "base_uri": "https://localhost:8080/"
        },
        "id": "ipPp-XkvLTNq",
        "outputId": "f18c37f0-9f49-4fe1-dbe8-ac768ed2f83c"
      },
      "execution_count": null,
      "outputs": [
        {
          "output_type": "stream",
          "name": "stdout",
          "text": [
            "True\n",
            "x1=  tensor([1., 1., 1., 1.], device='cuda:0')\n",
            "y1=  tensor([1., 1., 1., 1.], device='cuda:0')\n",
            "z1=  tensor([1., 1., 1., 1.])\n",
            "z1 device=  cpu\n"
          ]
        }
      ]
    },
    {
      "cell_type": "code",
      "source": [
        "x1=torch.ones(3,3)\n",
        "y1=torch.ones(3,3)\n",
        "xy=torch.cat((x1,y1),1).long()\n",
        "print(xy)\n",
        "print(xy.type())"
      ],
      "metadata": {
        "colab": {
          "base_uri": "https://localhost:8080/"
        },
        "id": "p19EkKBvOgcD",
        "outputId": "685cc235-d4d0-4817-9f08-c0320723ab67"
      },
      "execution_count": null,
      "outputs": [
        {
          "output_type": "stream",
          "name": "stdout",
          "text": [
            "tensor([[1, 1, 1, 1, 1, 1],\n",
            "        [1, 1, 1, 1, 1, 1],\n",
            "        [1, 1, 1, 1, 1, 1]])\n",
            "torch.LongTensor\n"
          ]
        }
      ]
    },
    {
      "cell_type": "code",
      "source": [],
      "metadata": {
        "id": "BBD-gw0dTH0E"
      },
      "execution_count": null,
      "outputs": []
    },
    {
      "cell_type": "markdown",
      "source": [
        "Gradient Calculation with Autograd"
      ],
      "metadata": {
        "id": "ILEMCSURqr4T"
      }
    },
    {
      "cell_type": "code",
      "source": [
        "x=torch.randn(3,requires_grad=True)\n",
        "x"
      ],
      "metadata": {
        "colab": {
          "base_uri": "https://localhost:8080/"
        },
        "id": "Gz0N0VhdqwiG",
        "outputId": "ad6e0700-3b6f-4a3c-83e7-38c2f2354985"
      },
      "execution_count": null,
      "outputs": [
        {
          "output_type": "execute_result",
          "data": {
            "text/plain": [
              "tensor([ 0.3405, -1.2869,  0.0578], requires_grad=True)"
            ]
          },
          "metadata": {},
          "execution_count": 32
        }
      ]
    },
    {
      "cell_type": "code",
      "source": [
        "y=x+2 # requires_grad=True creates a computational graph when any operation is done on that tensor\n",
        "#  the result is then backpropogated for calculation of the gradient of y with respect to x this is shown by grad_fn attribute in y tensor\n",
        "print(y)\n",
        "z=y*y*4\n",
        "z=z.mean()\n",
        "print('z= ',z)\n",
        "z.backward() # used to calculate dz/dx\n",
        "print(x.grad)"
      ],
      "metadata": {
        "colab": {
          "base_uri": "https://localhost:8080/"
        },
        "id": "KRqtcmnmq8Pi",
        "outputId": "335d4057-69f4-4deb-f1ef-5dc76dd908d7"
      },
      "execution_count": null,
      "outputs": [
        {
          "output_type": "stream",
          "name": "stdout",
          "text": [
            "tensor([2.3405, 0.7131, 2.0578], grad_fn=<AddBackward0>)\n",
            "z=  tensor(13.6283, grad_fn=<MeanBackward0>)\n",
            "tensor([6.2414, 1.9015, 5.4875])\n"
          ]
        }
      ]
    },
    {
      "cell_type": "code",
      "source": [
        "# Preventing gradient history (No back propogation)\n",
        "a=torch.randn(4,requires_grad=True)\n",
        "print('a= ',a)\n",
        "print()\n",
        "\n",
        "# Method 1\n",
        "print('Method 1 to prevent gradient history')\n",
        "a.requires_grad_(False)\n",
        "print('a= ',a)\n",
        "print()\n",
        "\n",
        "# Method 2\n",
        "print('Method 2 to prevent gradient history')\n",
        "b=a.detach()\n",
        "print('a= ',b)\n",
        "print()\n",
        "\n",
        "# Method 3\n",
        "print('Method 3 to prevent gradient history')\n",
        "with torch.no_grad():\n",
        "  c=a*1\n",
        "  print('a= ',c)"
      ],
      "metadata": {
        "colab": {
          "base_uri": "https://localhost:8080/"
        },
        "id": "Qa3kG9DbrdC5",
        "outputId": "2afc1923-6c05-423e-f542-4bd15bdec8ea"
      },
      "execution_count": null,
      "outputs": [
        {
          "output_type": "stream",
          "name": "stdout",
          "text": [
            "a=  tensor([-0.0457, -0.1248,  1.0614, -0.5585], requires_grad=True)\n",
            "\n",
            "Method 1 to prevent gradient history\n",
            "a=  tensor([-0.0457, -0.1248,  1.0614, -0.5585])\n",
            "\n",
            "Method 2 to prevent gradient history\n",
            "a=  tensor([-0.0457, -0.1248,  1.0614, -0.5585])\n",
            "\n",
            "Method 3 to prevent gradient history\n",
            "a=  tensor([-0.0457, -0.1248,  1.0614, -0.5585])\n"
          ]
        }
      ]
    },
    {
      "cell_type": "code",
      "source": [],
      "metadata": {
        "id": "a56_vLhY0VDe"
      },
      "execution_count": null,
      "outputs": []
    },
    {
      "cell_type": "markdown",
      "source": [
        "**Preventing gradient accumulation**"
      ],
      "metadata": {
        "id": "OAdxHuLp0PZV"
      }
    },
    {
      "cell_type": "code",
      "source": [
        "# Wrong Method here gradients are accumulated\n",
        "weights=torch.ones(4,requires_grad=True)\n",
        "\n",
        "for epoch in range(3):\n",
        "  model_output=(weights*3).sum()\n",
        "  model_output.backward()\n",
        "  print(weights.grad)"
      ],
      "metadata": {
        "colab": {
          "base_uri": "https://localhost:8080/"
        },
        "id": "yZaNtdw2yL1z",
        "outputId": "22412196-fc49-48d6-d032-8a020e5b114b"
      },
      "execution_count": null,
      "outputs": [
        {
          "output_type": "stream",
          "name": "stdout",
          "text": [
            "tensor([3., 3., 3., 3.])\n",
            "tensor([6., 6., 6., 6.])\n",
            "tensor([9., 9., 9., 9.])\n"
          ]
        }
      ]
    },
    {
      "cell_type": "code",
      "source": [
        "# Correct way, here gradients are not accumulated\n",
        "weights=torch.ones(4,requires_grad=True)\n",
        "\n",
        "for epoch in range(3):\n",
        "    model_output=(weights*3).sum()\n",
        "    model_output.backward()\n",
        "    print(weights.grad)\n",
        "    weights.grad.zero_()"
      ],
      "metadata": {
        "colab": {
          "base_uri": "https://localhost:8080/"
        },
        "id": "aRck1Yr80FuC",
        "outputId": "1fa8588d-468d-4378-abf8-2af2bba97e4a"
      },
      "execution_count": null,
      "outputs": [
        {
          "output_type": "stream",
          "name": "stdout",
          "text": [
            "tensor([3., 3., 3., 3.])\n",
            "tensor([3., 3., 3., 3.])\n",
            "tensor([3., 3., 3., 3.])\n"
          ]
        }
      ]
    },
    {
      "cell_type": "code",
      "source": [
        "# DO NOT RUN THIS CELL IT WILL PRODUCE ERROR IT IS JUST FOR REPRESENTATION\n",
        "# While working wth optimizers method to prevent gradient accumulation\n",
        "# weights=torch.ones(4,requires_grad=True)\n",
        "\n",
        "# optimizer=torch.optim.SGD(weights,lr=0.001)\n",
        "# optimizer.step()\n",
        "# optimizer.zero_grad()"
      ],
      "metadata": {
        "id": "n3QYK1FG0mUk"
      },
      "execution_count": null,
      "outputs": []
    },
    {
      "cell_type": "code",
      "source": [],
      "metadata": {
        "id": "E9hPYfmJ1O4g"
      },
      "execution_count": null,
      "outputs": []
    },
    {
      "cell_type": "markdown",
      "source": [
        "**Backpropogation**"
      ],
      "metadata": {
        "id": "q4uSnjQn30Ry"
      }
    },
    {
      "cell_type": "code",
      "source": [
        "x=torch.tensor(1.0)\n",
        "y=torch.tensor(2.0)\n",
        "\n",
        "w=torch.tensor(1.0,requires_grad=True)\n",
        "\n",
        "# Step 1: Forward Pass\n",
        "y_pred=x*w\n",
        "loss=(y_pred-y)**2\n",
        "print(loss)\n",
        "\n",
        "# Step 2: Backward Pass\n",
        "loss.backward()\n",
        "print(w.grad)\n",
        "\n",
        "# Step 3: Update weights\n",
        "# Step 4: Repeat setps 1 to 3"
      ],
      "metadata": {
        "colab": {
          "base_uri": "https://localhost:8080/"
        },
        "id": "FeY_dGqu33pQ",
        "outputId": "f4272f26-c9c8-4d89-c31f-95e5add48c7f"
      },
      "execution_count": null,
      "outputs": [
        {
          "output_type": "stream",
          "name": "stdout",
          "text": [
            "tensor(1., grad_fn=<PowBackward0>)\n",
            "tensor(-2.)\n"
          ]
        }
      ]
    },
    {
      "cell_type": "code",
      "source": [],
      "metadata": {
        "id": "ugyYQLIA4eFC"
      },
      "execution_count": null,
      "outputs": []
    },
    {
      "cell_type": "markdown",
      "source": [
        "**Gradient Descent and Backpropogation in Linear Regression**\n",
        "\n",
        "**Manually Calculating Gradients**"
      ],
      "metadata": {
        "id": "9Zu50-SE55er"
      }
    },
    {
      "cell_type": "code",
      "source": [
        "# Here gradient and loss calculations will be done manually\n",
        "# f = w*x\n",
        "# w = weight=2\n",
        "# X = input features\n",
        "# y = actual output\n",
        "X =np.array([1,2,3,4],dtype=np.float32)\n",
        "Y =np.array([2,4,6,8],dtype=np.float32)\n",
        "\n",
        "w=0.0\n",
        "\n",
        "# model prediction\n",
        "def forward(x):\n",
        "    return w*x\n",
        "\n",
        "# loss = MSE\n",
        "def loss(y,y_pred):\n",
        "    return ((y-y_pred)**2).mean()\n",
        "\n",
        "# gradient calculation\n",
        "# MSE= (1/n) * (w*x - y)**2 = J\n",
        "# dj/dw = (1/n) *  2x(w*x - y)\n",
        "def gradient(x,y,y_pred):\n",
        "    return np.dot(2*x, y_pred-y).mean()\n",
        "\n",
        "print(f'Prediction before training: f(5) = {forward(5):.3f}')\n",
        "\n",
        "# Start training\n",
        "lr=0.01\n",
        "n_epochs=20\n",
        "\n",
        "for epoch in range(n_epochs):\n",
        "    # Prediction = forward pass\n",
        "    y_pred=forward(X)\n",
        "\n",
        "    # loss\n",
        "    l=loss(Y,y_pred)\n",
        "\n",
        "    # gradients\n",
        "    dw =gradient(X,Y,y_pred)\n",
        "\n",
        "    # update weights\n",
        "    w -= lr*dw\n",
        "\n",
        "    if epoch%2 == 0:\n",
        "        print(f'epcoh {epoch+1}: weight = {w:.3f}, loss = {l:.8f}')\n",
        "\n",
        "print(f'Prediction after training: f(5) = {forward(5):.3f}')"
      ],
      "metadata": {
        "colab": {
          "base_uri": "https://localhost:8080/"
        },
        "id": "pSilHjEz5-Fa",
        "outputId": "6596d88d-51cb-48d8-fd87-b81131d88f25"
      },
      "execution_count": null,
      "outputs": [
        {
          "output_type": "stream",
          "name": "stdout",
          "text": [
            "Prediction before training: f(5) = 0.000\n",
            "epcoh 1: weight = 1.200, loss = 30.00000000\n",
            "epcoh 3: weight = 1.872, loss = 0.76800019\n",
            "epcoh 5: weight = 1.980, loss = 0.01966083\n",
            "epcoh 7: weight = 1.997, loss = 0.00050331\n",
            "epcoh 9: weight = 1.999, loss = 0.00001288\n",
            "epcoh 11: weight = 2.000, loss = 0.00000033\n",
            "epcoh 13: weight = 2.000, loss = 0.00000001\n",
            "epcoh 15: weight = 2.000, loss = 0.00000000\n",
            "epcoh 17: weight = 2.000, loss = 0.00000000\n",
            "epcoh 19: weight = 2.000, loss = 0.00000000\n",
            "Prediction after training: f(5) = 10.000\n"
          ]
        }
      ]
    },
    {
      "cell_type": "markdown",
      "source": [
        "**Automatic Gradient Calculation Using autograd()**"
      ],
      "metadata": {
        "id": "k0KhuEoNzkwZ"
      }
    },
    {
      "cell_type": "code",
      "source": [
        "# Here gradient and loss calculations will be done manually\n",
        "# f = w*x\n",
        "# w = weight=2\n",
        "# X = input features\n",
        "# y = actual output\n",
        "X =torch.tensor([1,2,3,4],dtype=torch.float32)\n",
        "Y =torch.tensor([2,4,6,8],dtype=torch.float32)\n",
        "\n",
        "w=torch.tensor(0.0,dtype=torch.float32,requires_grad=True)\n",
        "\n",
        "# model prediction\n",
        "def forward(x):\n",
        "    return w*x\n",
        "\n",
        "# loss = MSE\n",
        "def loss(y,y_pred):\n",
        "    return ((y-y_pred)**2).mean()\n",
        "\n",
        "print(f'Prediction before training: f(5) = {forward(5):.3f}')\n",
        "\n",
        "# Start training\n",
        "lr=0.01\n",
        "n_epochs=100\n",
        "\n",
        "for epoch in range(n_epochs):\n",
        "    # Prediction = forward pass\n",
        "    y_pred=forward(X)\n",
        "\n",
        "    # loss\n",
        "    l=loss(Y,y_pred)\n",
        "\n",
        "    # gradients = backward pass\n",
        "    l.backward()\n",
        "\n",
        "    # update weights\n",
        "    with torch.no_grad():\n",
        "        w -= lr*w.grad\n",
        "\n",
        "    # zore_grad\n",
        "    w.grad.zero_()\n",
        "\n",
        "    if epoch%10 == 0:\n",
        "        print(f'epcoh {epoch+1}: weight = {w:.3f}, loss = {l:.8f}')\n",
        "\n",
        "print(f'Prediction after training: f(5) = {forward(5):.3f}')"
      ],
      "metadata": {
        "id": "Z69Ac9Is8n6D",
        "colab": {
          "base_uri": "https://localhost:8080/"
        },
        "outputId": "9813c3bc-b928-4b4b-cd7f-4fdb27857b8f"
      },
      "execution_count": null,
      "outputs": [
        {
          "output_type": "stream",
          "name": "stdout",
          "text": [
            "Prediction before training: f(5) = 0.000\n",
            "epcoh 1: weight = 0.300, loss = 30.00000000\n",
            "epcoh 11: weight = 1.665, loss = 1.16278565\n",
            "epcoh 21: weight = 1.934, loss = 0.04506890\n",
            "epcoh 31: weight = 1.987, loss = 0.00174685\n",
            "epcoh 41: weight = 1.997, loss = 0.00006770\n",
            "epcoh 51: weight = 1.999, loss = 0.00000262\n",
            "epcoh 61: weight = 2.000, loss = 0.00000010\n",
            "epcoh 71: weight = 2.000, loss = 0.00000000\n",
            "epcoh 81: weight = 2.000, loss = 0.00000000\n",
            "epcoh 91: weight = 2.000, loss = 0.00000000\n",
            "Prediction after training: f(5) = 10.000\n"
          ]
        }
      ]
    },
    {
      "cell_type": "code",
      "source": [],
      "metadata": {
        "id": "9lA6EEGp2QeK"
      },
      "execution_count": null,
      "outputs": []
    },
    {
      "cell_type": "markdown",
      "source": [
        "Automating Training Pipeline in PyTorch using inbuilt functions\n",
        "\n",
        "Step 1: Design Model(input_size,output_size,forward_pass)\n",
        "\n",
        "Step 2: Construct Loss and Optimizer\n",
        "\n",
        "Step 3: Training Loop (\n",
        "\n",
        "        - forward pass: compute prediction\n",
        "        - backward pass/propogation: gradients\n",
        "        - update weights\n",
        ")"
      ],
      "metadata": {
        "id": "7yusaLTq4UoM"
      }
    },
    {
      "cell_type": "code",
      "source": [
        "import torch.nn as nn"
      ],
      "metadata": {
        "id": "t7g_CAH86yK5"
      },
      "execution_count": null,
      "outputs": []
    },
    {
      "cell_type": "code",
      "source": [
        "X =torch.tensor([1,2,3,4],dtype=torch.float32)\n",
        "Y =torch.tensor([2,4,6,8],dtype=torch.float32)\n",
        "\n",
        "w=torch.tensor(0.0,dtype=torch.float32,requires_grad=True)\n",
        "\n",
        "# model prediction\n",
        "def forward(x):\n",
        "    return w*x\n",
        "\n",
        "\n",
        "print(f'Prediction before training: f(5) = {forward(5):.3f}')\n",
        "\n",
        "# Start training\n",
        "lr=0.01\n",
        "n_epochs=100\n",
        "loss=nn.MSELoss()\n",
        "optimizer=torch.optim.SGD([w],lr=lr)\n",
        "\n",
        "\n",
        "for epoch in range(n_epochs):\n",
        "    # Prediction = forward pass\n",
        "    y_pred=forward(X)\n",
        "\n",
        "    # loss\n",
        "    l=loss(Y,y_pred)\n",
        "\n",
        "    # gradients = backward pass\n",
        "    l.backward()\n",
        "\n",
        "    # update weights\n",
        "    optimizer.step()\n",
        "\n",
        "    # zore_grad\n",
        "    optimizer.zero_grad()\n",
        "\n",
        "    if epoch%10 == 0:\n",
        "        print(f'epcoh {epoch+1}: weight = {w:.3f}, loss = {l:.8f}')\n",
        "\n",
        "print(f'Prediction after training: f(5) = {forward(5):.3f}')"
      ],
      "metadata": {
        "colab": {
          "base_uri": "https://localhost:8080/"
        },
        "id": "1zExRVXO4-9R",
        "outputId": "0567085e-963e-4c0b-bb59-4d9340feb10a"
      },
      "execution_count": null,
      "outputs": [
        {
          "output_type": "stream",
          "name": "stdout",
          "text": [
            "Prediction before training: f(5) = 0.000\n",
            "epcoh 1: weight = 0.300, loss = 30.00000000\n",
            "epcoh 11: weight = 1.665, loss = 1.16278565\n",
            "epcoh 21: weight = 1.934, loss = 0.04506890\n",
            "epcoh 31: weight = 1.987, loss = 0.00174685\n",
            "epcoh 41: weight = 1.997, loss = 0.00006770\n",
            "epcoh 51: weight = 1.999, loss = 0.00000262\n",
            "epcoh 61: weight = 2.000, loss = 0.00000010\n",
            "epcoh 71: weight = 2.000, loss = 0.00000000\n",
            "epcoh 81: weight = 2.000, loss = 0.00000000\n",
            "epcoh 91: weight = 2.000, loss = 0.00000000\n",
            "Prediction after training: f(5) = 10.000\n"
          ]
        }
      ]
    },
    {
      "cell_type": "code",
      "source": [
        "X =torch.tensor([[1],[2],[3],[4]],dtype=torch.float32)\n",
        "Y =torch.tensor([[2],[4],[6],[8]],dtype=torch.float32)\n",
        "X_test=torch.tensor([5],dtype=torch.float32)\n",
        "\n",
        "n_samples,n_features=X.shape\n",
        "print(n_samples,n_features)\n",
        "\n",
        "input_size=n_features\n",
        "output_size=n_features\n",
        "# model=nn.Linear(input_size,output_size)\n",
        "\n",
        "class LinearRegression(nn.Module):\n",
        "    def __init__ (self,input_dim,output_dim):\n",
        "        super(LinearRegression,self).__init__()\n",
        "\n",
        "        # define layers\n",
        "        self.lin1=nn.Linear(input_dim, output_dim)\n",
        "\n",
        "    def forward(self,x):\n",
        "        return self.lin1(x)\n",
        "\n",
        "model=LinearRegression(input_size,output_size)\n",
        "\n",
        "# model prediction\n",
        "\n",
        "print(f'Prediction before training: f(5) = {model(X_test).item():.3f}')\n",
        "\n",
        "# Start training\n",
        "lr=0.01\n",
        "n_epochs=100\n",
        "loss=nn.MSELoss()\n",
        "optimizer=torch.optim.SGD(model.parameters(), lr=lr)\n",
        "\n",
        "\n",
        "for epoch in range(n_epochs):\n",
        "    # Prediction = forward pass\n",
        "    y_pred=model(X)\n",
        "\n",
        "    # loss\n",
        "    l=loss(Y,y_pred)\n",
        "\n",
        "    # gradients = backward pass\n",
        "    l.backward()\n",
        "\n",
        "    # update weights\n",
        "    optimizer.step()\n",
        "\n",
        "    # zore_grad\n",
        "    optimizer.zero_grad()\n",
        "\n",
        "    if epoch%10 == 0:\n",
        "        [w,b] =model .parameters()\n",
        "        print(f'epcoh {epoch+1}: weight = {w[0][0].item():.3f}, loss = {l:.8f}')\n",
        "\n",
        "print(f'Prediction after training: f(5) = {model(X_test).item():.3f}')"
      ],
      "metadata": {
        "colab": {
          "base_uri": "https://localhost:8080/"
        },
        "id": "dBUk9CDb7cbO",
        "outputId": "a43c7255-6a2e-4e22-a427-80e33362744d"
      },
      "execution_count": null,
      "outputs": [
        {
          "output_type": "stream",
          "name": "stdout",
          "text": [
            "4 1\n",
            "Prediction before training: f(5) = -1.742\n",
            "epcoh 1: weight = 0.187, loss = 45.48641968\n",
            "epcoh 11: weight = 1.731, loss = 1.17788172\n",
            "epcoh 21: weight = 1.979, loss = 0.03145315\n",
            "epcoh 31: weight = 2.018, loss = 0.00173527\n",
            "epcoh 41: weight = 2.024, loss = 0.00091274\n",
            "epcoh 51: weight = 2.024, loss = 0.00084095\n",
            "epcoh 61: weight = 2.023, loss = 0.00079152\n",
            "epcoh 71: weight = 2.023, loss = 0.00074543\n",
            "epcoh 81: weight = 2.022, loss = 0.00070204\n",
            "epcoh 91: weight = 2.021, loss = 0.00066118\n",
            "Prediction after training: f(5) = 10.043\n"
          ]
        }
      ]
    },
    {
      "cell_type": "code",
      "source": [],
      "metadata": {
        "id": "8eFh2lzb846I"
      },
      "execution_count": null,
      "outputs": []
    }
  ]
}