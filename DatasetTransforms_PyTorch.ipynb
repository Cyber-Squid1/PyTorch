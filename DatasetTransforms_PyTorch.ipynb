{
  "nbformat": 4,
  "nbformat_minor": 0,
  "metadata": {
    "colab": {
      "provenance": [],
      "gpuType": "T4",
      "authorship_tag": "ABX9TyNc/uZ+e5gLwuM0s83wRxCW",
      "include_colab_link": true
    },
    "kernelspec": {
      "name": "python3",
      "display_name": "Python 3"
    },
    "language_info": {
      "name": "python"
    },
    "accelerator": "GPU"
  },
  "cells": [
    {
      "cell_type": "markdown",
      "metadata": {
        "id": "view-in-github",
        "colab_type": "text"
      },
      "source": [
        "<a href=\"https://colab.research.google.com/github/Cyber-Squid1/PyTorch/blob/main/DatasetTransforms_PyTorch.ipynb\" target=\"_parent\"><img src=\"https://colab.research.google.com/assets/colab-badge.svg\" alt=\"Open In Colab\"/></a>"
      ]
    },
    {
      "cell_type": "code",
      "execution_count": 1,
      "metadata": {
        "id": "oBP9pZeQJjzt"
      },
      "outputs": [],
      "source": [
        "import torch\n",
        "from torch.utils.data import Dataset, DataLoader\n",
        "import torchvision\n",
        "import numpy as np"
      ]
    },
    {
      "cell_type": "code",
      "source": [
        "# dataset=torchvision.datasets.MNIST(\n",
        "#     root='./data',\n",
        "#     transform=torchvision.transforms.ToTensor()\n",
        "# )"
      ],
      "metadata": {
        "id": "KWTr6XWVJ7zr"
      },
      "execution_count": 2,
      "outputs": []
    },
    {
      "cell_type": "code",
      "source": [
        "class WineDataset(Dataset):\n",
        "    def __init__(self,transform=None):\n",
        "        # Loading Data\n",
        "        xy=np.loadtxt('./wine.csv',delimiter=\",\",dtype=np.float32,skiprows=1)\n",
        "        self.x = xy[:,1:]\n",
        "        self.y = xy[:,[0]] # n_samples, 1\n",
        "\n",
        "        self.transform = transform\n",
        "\n",
        "    def __getitem__(self, index):\n",
        "        sample = self.x[index], self.y[index]\n",
        "\n",
        "        if self.transform:\n",
        "            sample = self.transform(sample)\n",
        "\n",
        "        return sample\n",
        "\n",
        "    def __len__(self):\n",
        "        return self.n_samples"
      ],
      "metadata": {
        "id": "r96h8TehKqCk"
      },
      "execution_count": 3,
      "outputs": []
    },
    {
      "cell_type": "code",
      "source": [
        "# Custom transform\n",
        "class ToTensor:\n",
        "    def __call__(self,sample):\n",
        "        inputs, labels=sample\n",
        "        return torch.from_numpy(inputs), torch.from_numpy(labels)\n",
        "\n",
        "\n",
        "class MulTransform:\n",
        "    # Multiply input with some factor\n",
        "    def __init__(self,factor):\n",
        "        self.factor=factor\n",
        "\n",
        "    def __call__(self, sample) :\n",
        "        inputs, labels=sample\n",
        "        inputs *= self.factor\n",
        "        return inputs, labels"
      ],
      "metadata": {
        "id": "do_bZM-SKrtB"
      },
      "execution_count": 4,
      "outputs": []
    },
    {
      "cell_type": "code",
      "source": [
        "# Applying single transform to the dataset\n",
        "dataset = WineDataset(transform=ToTensor())"
      ],
      "metadata": {
        "id": "hU4ADWeyKr0y"
      },
      "execution_count": 5,
      "outputs": []
    },
    {
      "cell_type": "code",
      "source": [
        "firstData=dataset[0]\n",
        "features1, labels=firstData\n",
        "print('Type of feature vector = ',type(features1))\n",
        "print('Type of labels vector = ',type(labels))"
      ],
      "metadata": {
        "colab": {
          "base_uri": "https://localhost:8080/"
        },
        "id": "YX2mzO-WKr3J",
        "outputId": "2e6dd732-9846-4bf2-858a-2514a5e64e08"
      },
      "execution_count": 6,
      "outputs": [
        {
          "output_type": "stream",
          "name": "stdout",
          "text": [
            "Type of feature vector =  <class 'torch.Tensor'>\n",
            "Type of labels vector =  <class 'torch.Tensor'>\n"
          ]
        }
      ]
    },
    {
      "cell_type": "code",
      "source": [
        "# Create a composed Transform\n",
        "composed= torchvision.transforms.Compose([ToTensor(),MulTransform(4)])"
      ],
      "metadata": {
        "id": "KZL2O9RhMIbQ"
      },
      "execution_count": 7,
      "outputs": []
    },
    {
      "cell_type": "code",
      "source": [
        "# Applying composed transform to the dataset\n",
        "dataset=WineDataset(transform=composed)"
      ],
      "metadata": {
        "id": "TRB3R8hJNVwR"
      },
      "execution_count": 8,
      "outputs": []
    },
    {
      "cell_type": "code",
      "source": [
        "firstData=dataset[0]\n",
        "features, labels=firstData\n",
        "print('Type of feature vector = ',type(features))\n",
        "print('Type of labels vector = ',type(labels))"
      ],
      "metadata": {
        "colab": {
          "base_uri": "https://localhost:8080/"
        },
        "id": "xQmmS1Z4NlfZ",
        "outputId": "27b8f989-b011-4d33-d79e-08e3c55ea387"
      },
      "execution_count": 9,
      "outputs": [
        {
          "output_type": "stream",
          "name": "stdout",
          "text": [
            "Type of feature vector =  <class 'torch.Tensor'>\n",
            "Type of labels vector =  <class 'torch.Tensor'>\n"
          ]
        }
      ]
    },
    {
      "cell_type": "code",
      "source": [
        "print(features1)\n",
        "print(features)"
      ],
      "metadata": {
        "colab": {
          "base_uri": "https://localhost:8080/"
        },
        "id": "RUg7M8f7N2-6",
        "outputId": "97fdece4-39a6-4a1b-bdbb-5e939fec89d3"
      },
      "execution_count": 10,
      "outputs": [
        {
          "output_type": "stream",
          "name": "stdout",
          "text": [
            "tensor([1.4230e+01, 1.7100e+00, 2.4300e+00, 1.5600e+01, 1.2700e+02, 2.8000e+00,\n",
            "        3.0600e+00, 2.8000e-01, 2.2900e+00, 5.6400e+00, 1.0400e+00, 3.9200e+00,\n",
            "        1.0650e+03])\n",
            "tensor([5.6920e+01, 6.8400e+00, 9.7200e+00, 6.2400e+01, 5.0800e+02, 1.1200e+01,\n",
            "        1.2240e+01, 1.1200e+00, 9.1600e+00, 2.2560e+01, 4.1600e+00, 1.5680e+01,\n",
            "        4.2600e+03])\n"
          ]
        }
      ]
    },
    {
      "cell_type": "code",
      "source": [],
      "metadata": {
        "id": "iHa5O-G7OUvs"
      },
      "execution_count": 10,
      "outputs": []
    }
  ]
}